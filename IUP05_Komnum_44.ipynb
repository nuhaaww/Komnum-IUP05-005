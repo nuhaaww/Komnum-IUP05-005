{
 "cells": [
  {
   "cell_type": "code",
   "execution_count": null,
   "id": "1505bcdc",
   "metadata": {},
   "outputs": [],
   "source": [
    "import numpy as np\n",
    "import math"
   ]
  },
  {
   "cell_type": "code",
   "execution_count": null,
   "id": "bea8b8d2",
   "metadata": {},
   "outputs": [],
   "source": [
    "h = 3\n",
    "n = 4\n",
    "xi_values = np.arange(2, 12, h)\n",
    "\n",
    "for i in range(0, n):\n",
    "    print(\"x\" + str(i) + \": \" + str(xi_values[i]))"
   ]
  },
  {
   "cell_type": "code",
   "execution_count": null,
   "id": "73efb689",
   "metadata": {},
   "outputs": [],
   "source": [
    "def real_f(x):\n",
    "    return np.round((4*(x**5)/5) - (4*(x**3)), 2)\n",
    "\n",
    "f_real = real_f(xi_values)\n",
    "\n",
    "for i in range(0, n):\n",
    "    print(\"Real f(\" + str(i) + \"): \" + str(f_real[i]))"
   ]
  },
  {
   "cell_type": "code",
   "execution_count": null,
   "id": "06b41106",
   "metadata": {},
   "outputs": [],
   "source": [
    "def y(x):\n",
    "    return np.round((4*(x**4)) - (12*(x**2)), 2)\n",
    "\n",
    "yi_values = y(xi_values)\n",
    "\n",
    "for i in range(0, n):\n",
    "    print(\"y\" + str(i) + \": \" + str(yi_values[i]))"
   ]
  },
  {
   "cell_type": "code",
   "execution_count": null,
   "id": "9ea4e34c",
   "metadata": {},
   "outputs": [],
   "source": [
    "euler_y = np.zeros(4)\n",
    "euler_y[0] = f_real[0]\n",
    "\n",
    "for i in range(0, n-1):\n",
    "    euler_y[i+1] = euler_y[i] + (h * yi_values[i])\n",
    "\n",
    "for i in range(0, n):\n",
    "    print(\"euler y\" + str(i) + \": \" + str(euler_y[i]))"
   ]
  },
  {
   "cell_type": "code",
   "execution_count": null,
   "id": "25ad6c43",
   "metadata": {},
   "outputs": [],
   "source": [
    "def error(i):\n",
    "    return abs((euler_y[i] - f_real[i]) / f_real[i] * 100)\n",
    "\n",
    "errors = [round(error(i), 2) for i in range(n)]\n",
    "errors[0] = \"-\"\n",
    "\n",
    "print(\"Results:\")\n",
    "print(\"i  x   Euler y    Exact y     Error (%)\")\n",
    "print(\"------------------------------------------------------\")\n",
    "\n",
    "for i in range(0, n):\n",
    "    print(f\"{i}  {xi_values[i]}  {euler_y[i]}      {f_real[i]}     {errors[i]}\")"
   ]
  }
 ],
 "metadata": {},
 "nbformat": 4,
 "nbformat_minor": 5
}
